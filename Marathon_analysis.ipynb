{
 "cells": [
  {
   "cell_type": "markdown",
   "metadata": {},
   "source": [
    "### Boston Half Marathon 2025 womens results analysis\n",
    "#### This notebook analyzes official data downloaded from the website."
   ]
  },
  {
   "cell_type": "code",
   "execution_count": 214,
   "metadata": {},
   "outputs": [],
   "source": [
    "import pandas as pd\n",
    "import matplotlib.pyplot as plt\n",
    "import numpy as np\n",
    "# import seaborn as sn"
   ]
  },
  {
   "cell_type": "markdown",
   "metadata": {},
   "source": [
    "#### Helper functions \n",
    "1. to parse time and convert into minutes\n",
    "2. to parse age from age divisions"
   ]
  },
  {
   "cell_type": "code",
   "execution_count": 164,
   "metadata": {},
   "outputs": [],
   "source": [
    "def parse_time(x):\n",
    "    parts = x.split(':')\n",
    "    try:\n",
    "        #if time is H:M:S\n",
    "        if len(parts) == 3:\n",
    "            h = int(parts[0])\n",
    "            m = int(parts[1])\n",
    "            s = int(parts[2])\n",
    "            total_min = h * 60 + m + s/60\n",
    "        #if time is M:S and decimal seconds like 19:42.0\n",
    "        elif len(parts) == 2:\n",
    "            m = int(parts[0])\n",
    "            s = int(float(parts[1]))\n",
    "            total_min = m + s/60\n",
    "        #if neither pattern fits error and add NA\n",
    "        else:\n",
    "                raise ValueError\n",
    "        \n",
    "    except (ValueError, IndexError):\n",
    "        total_min = pd.NA\n",
    "        print(f\"NaN introduced: pattern does not match H:M:S or M:S.d -> {x}\")\n",
    "    return round(total_min,2)\n",
    "\n",
    "import re\n",
    "def parse_age(s):\n",
    "    match = re.search(r'\\d+', s)\n",
    "    age = int(match.group()) if match else None\n",
    "    #F0-18 category converted to 18 (dont know min age)\n",
    "    if age == 0:\n",
    "        age = 18\n",
    "    return age"
   ]
  },
  {
   "cell_type": "markdown",
   "metadata": {},
   "source": [
    "#### Read in the downloaded data and clean it. "
   ]
  },
  {
   "cell_type": "code",
   "execution_count": 168,
   "metadata": {},
   "outputs": [
    {
     "data": {
      "text/html": [
       "<div>\n",
       "<style scoped>\n",
       "    .dataframe tbody tr th:only-of-type {\n",
       "        vertical-align: middle;\n",
       "    }\n",
       "\n",
       "    .dataframe tbody tr th {\n",
       "        vertical-align: top;\n",
       "    }\n",
       "\n",
       "    .dataframe thead th {\n",
       "        text-align: right;\n",
       "    }\n",
       "</style>\n",
       "<table border=\"1\" class=\"dataframe\">\n",
       "  <thead>\n",
       "    <tr style=\"text-align: right;\">\n",
       "      <th></th>\n",
       "      <th>Place</th>\n",
       "      <th>Name</th>\n",
       "      <th>NetTime</th>\n",
       "      <th>Pace</th>\n",
       "      <th>Division</th>\n",
       "      <th>Division.1</th>\n",
       "      <th>City</th>\n",
       "      <th>State</th>\n",
       "      <th>5k</th>\n",
       "      <th>10k</th>\n",
       "      <th>10m</th>\n",
       "    </tr>\n",
       "  </thead>\n",
       "  <tbody>\n",
       "    <tr>\n",
       "      <th>3</th>\n",
       "      <td>49</td>\n",
       "      <td>Hilary Dionne</td>\n",
       "      <td>1:24:29</td>\n",
       "      <td>6:27</td>\n",
       "      <td>F35-39</td>\n",
       "      <td>1 / 173</td>\n",
       "      <td>Lincoln</td>\n",
       "      <td>MA</td>\n",
       "      <td>18:45.0</td>\n",
       "      <td>38:28.0</td>\n",
       "      <td>1:04:10</td>\n",
       "    </tr>\n",
       "    <tr>\n",
       "      <th>4</th>\n",
       "      <td>50</td>\n",
       "      <td>Sherlyn Gomez</td>\n",
       "      <td>1:24:46</td>\n",
       "      <td>6:28</td>\n",
       "      <td>F20-24</td>\n",
       "      <td>1 / 435</td>\n",
       "      <td>Los Angeles</td>\n",
       "      <td>CA</td>\n",
       "      <td>20:53.0</td>\n",
       "      <td>40:58.0</td>\n",
       "      <td>1:04:53</td>\n",
       "    </tr>\n",
       "    <tr>\n",
       "      <th>5</th>\n",
       "      <td>65</td>\n",
       "      <td>Kelsey Igo</td>\n",
       "      <td>1:26:44</td>\n",
       "      <td>6:37</td>\n",
       "      <td>F30-34</td>\n",
       "      <td>1 / 250</td>\n",
       "      <td>Boston</td>\n",
       "      <td>MA</td>\n",
       "      <td>20:13.0</td>\n",
       "      <td>40:40.0</td>\n",
       "      <td>1:05:51</td>\n",
       "    </tr>\n",
       "    <tr>\n",
       "      <th>6</th>\n",
       "      <td>71</td>\n",
       "      <td>Sarah Stirling</td>\n",
       "      <td>1:27:21</td>\n",
       "      <td>6:40</td>\n",
       "      <td>F40-44</td>\n",
       "      <td>1 / 150</td>\n",
       "      <td>East Bridgewater</td>\n",
       "      <td>MA</td>\n",
       "      <td>20:49.0</td>\n",
       "      <td>41:26.0</td>\n",
       "      <td>1:06:43</td>\n",
       "    </tr>\n",
       "    <tr>\n",
       "      <th>7</th>\n",
       "      <td>92</td>\n",
       "      <td>Nicole Major</td>\n",
       "      <td>1:28:29</td>\n",
       "      <td>6:45</td>\n",
       "      <td>F20-24</td>\n",
       "      <td>2 / 435</td>\n",
       "      <td>Andover</td>\n",
       "      <td>MA</td>\n",
       "      <td>21:16.0</td>\n",
       "      <td>42:08.0</td>\n",
       "      <td>1:07:40</td>\n",
       "    </tr>\n",
       "  </tbody>\n",
       "</table>\n",
       "</div>"
      ],
      "text/plain": [
       "   Place            Name  NetTime  Pace Division Division.1              City  \\\n",
       "3     49   Hilary Dionne  1:24:29  6:27   F35-39    1 / 173           Lincoln   \n",
       "4     50   Sherlyn Gomez  1:24:46  6:28   F20-24    1 / 435       Los Angeles   \n",
       "5     65      Kelsey Igo  1:26:44  6:37   F30-34    1 / 250            Boston   \n",
       "6     71  Sarah Stirling  1:27:21  6:40   F40-44    1 / 150  East Bridgewater   \n",
       "7     92    Nicole Major  1:28:29  6:45   F20-24    2 / 435           Andover   \n",
       "\n",
       "  State       5k      10k      10m  \n",
       "3    MA  18:45.0  38:28.0  1:04:10  \n",
       "4    CA  20:53.0  40:58.0  1:04:53  \n",
       "5    MA  20:13.0  40:40.0  1:05:51  \n",
       "6    MA  20:49.0  41:26.0  1:06:43  \n",
       "7    MA  21:16.0  42:08.0  1:07:40  "
      ]
     },
     "execution_count": 168,
     "metadata": {},
     "output_type": "execute_result"
    }
   ],
   "source": [
    "# Read in downloaded data\n",
    "df = pd.read_csv('Boston_Half_marathon_2025.txt', sep='\\t')\n",
    "df.shape #(1844,11)\n",
    "#Clean data\n",
    "df = df.dropna()\n",
    "df.shape #11 rows omitted\n",
    "df = df[df['Division'] != \"FOPEN\"]\n",
    "df.shape #1818, 11\n",
    "df.head()"
   ]
  },
  {
   "cell_type": "markdown",
   "metadata": {},
   "source": [
    "#### Parse time to total minutes "
   ]
  },
  {
   "cell_type": "code",
   "execution_count": 169,
   "metadata": {
    "scrolled": false
   },
   "outputs": [
    {
     "data": {
      "text/html": [
       "<div>\n",
       "<style scoped>\n",
       "    .dataframe tbody tr th:only-of-type {\n",
       "        vertical-align: middle;\n",
       "    }\n",
       "\n",
       "    .dataframe tbody tr th {\n",
       "        vertical-align: top;\n",
       "    }\n",
       "\n",
       "    .dataframe thead th {\n",
       "        text-align: right;\n",
       "    }\n",
       "</style>\n",
       "<table border=\"1\" class=\"dataframe\">\n",
       "  <thead>\n",
       "    <tr style=\"text-align: right;\">\n",
       "      <th></th>\n",
       "      <th>Place</th>\n",
       "      <th>Name</th>\n",
       "      <th>NetTime</th>\n",
       "      <th>Pace</th>\n",
       "      <th>Division</th>\n",
       "      <th>Division.1</th>\n",
       "      <th>City</th>\n",
       "      <th>State</th>\n",
       "      <th>5k</th>\n",
       "      <th>10k</th>\n",
       "      <th>10m</th>\n",
       "      <th>NetTime_minutes</th>\n",
       "      <th>Pace_minutes</th>\n",
       "      <th>5k_minutes</th>\n",
       "      <th>10k_minutes</th>\n",
       "      <th>10miles_minutes</th>\n",
       "    </tr>\n",
       "  </thead>\n",
       "  <tbody>\n",
       "    <tr>\n",
       "      <th>3</th>\n",
       "      <td>49</td>\n",
       "      <td>Hilary Dionne</td>\n",
       "      <td>1:24:29</td>\n",
       "      <td>6:27</td>\n",
       "      <td>F35-39</td>\n",
       "      <td>1 / 173</td>\n",
       "      <td>Lincoln</td>\n",
       "      <td>MA</td>\n",
       "      <td>18:45.0</td>\n",
       "      <td>38:28.0</td>\n",
       "      <td>1:04:10</td>\n",
       "      <td>84.48</td>\n",
       "      <td>6.45</td>\n",
       "      <td>18.75</td>\n",
       "      <td>38.47</td>\n",
       "      <td>64.17</td>\n",
       "    </tr>\n",
       "    <tr>\n",
       "      <th>4</th>\n",
       "      <td>50</td>\n",
       "      <td>Sherlyn Gomez</td>\n",
       "      <td>1:24:46</td>\n",
       "      <td>6:28</td>\n",
       "      <td>F20-24</td>\n",
       "      <td>1 / 435</td>\n",
       "      <td>Los Angeles</td>\n",
       "      <td>CA</td>\n",
       "      <td>20:53.0</td>\n",
       "      <td>40:58.0</td>\n",
       "      <td>1:04:53</td>\n",
       "      <td>84.77</td>\n",
       "      <td>6.47</td>\n",
       "      <td>20.88</td>\n",
       "      <td>40.97</td>\n",
       "      <td>64.88</td>\n",
       "    </tr>\n",
       "    <tr>\n",
       "      <th>5</th>\n",
       "      <td>65</td>\n",
       "      <td>Kelsey Igo</td>\n",
       "      <td>1:26:44</td>\n",
       "      <td>6:37</td>\n",
       "      <td>F30-34</td>\n",
       "      <td>1 / 250</td>\n",
       "      <td>Boston</td>\n",
       "      <td>MA</td>\n",
       "      <td>20:13.0</td>\n",
       "      <td>40:40.0</td>\n",
       "      <td>1:05:51</td>\n",
       "      <td>86.73</td>\n",
       "      <td>6.62</td>\n",
       "      <td>20.22</td>\n",
       "      <td>40.67</td>\n",
       "      <td>65.85</td>\n",
       "    </tr>\n",
       "    <tr>\n",
       "      <th>6</th>\n",
       "      <td>71</td>\n",
       "      <td>Sarah Stirling</td>\n",
       "      <td>1:27:21</td>\n",
       "      <td>6:40</td>\n",
       "      <td>F40-44</td>\n",
       "      <td>1 / 150</td>\n",
       "      <td>East Bridgewater</td>\n",
       "      <td>MA</td>\n",
       "      <td>20:49.0</td>\n",
       "      <td>41:26.0</td>\n",
       "      <td>1:06:43</td>\n",
       "      <td>87.35</td>\n",
       "      <td>6.67</td>\n",
       "      <td>20.82</td>\n",
       "      <td>41.43</td>\n",
       "      <td>66.72</td>\n",
       "    </tr>\n",
       "    <tr>\n",
       "      <th>7</th>\n",
       "      <td>92</td>\n",
       "      <td>Nicole Major</td>\n",
       "      <td>1:28:29</td>\n",
       "      <td>6:45</td>\n",
       "      <td>F20-24</td>\n",
       "      <td>2 / 435</td>\n",
       "      <td>Andover</td>\n",
       "      <td>MA</td>\n",
       "      <td>21:16.0</td>\n",
       "      <td>42:08.0</td>\n",
       "      <td>1:07:40</td>\n",
       "      <td>88.48</td>\n",
       "      <td>6.75</td>\n",
       "      <td>21.27</td>\n",
       "      <td>42.13</td>\n",
       "      <td>67.67</td>\n",
       "    </tr>\n",
       "  </tbody>\n",
       "</table>\n",
       "</div>"
      ],
      "text/plain": [
       "   Place            Name  NetTime  Pace Division Division.1              City  \\\n",
       "3     49   Hilary Dionne  1:24:29  6:27   F35-39    1 / 173           Lincoln   \n",
       "4     50   Sherlyn Gomez  1:24:46  6:28   F20-24    1 / 435       Los Angeles   \n",
       "5     65      Kelsey Igo  1:26:44  6:37   F30-34    1 / 250            Boston   \n",
       "6     71  Sarah Stirling  1:27:21  6:40   F40-44    1 / 150  East Bridgewater   \n",
       "7     92    Nicole Major  1:28:29  6:45   F20-24    2 / 435           Andover   \n",
       "\n",
       "  State       5k      10k      10m  NetTime_minutes  Pace_minutes  5k_minutes  \\\n",
       "3    MA  18:45.0  38:28.0  1:04:10            84.48          6.45       18.75   \n",
       "4    CA  20:53.0  40:58.0  1:04:53            84.77          6.47       20.88   \n",
       "5    MA  20:13.0  40:40.0  1:05:51            86.73          6.62       20.22   \n",
       "6    MA  20:49.0  41:26.0  1:06:43            87.35          6.67       20.82   \n",
       "7    MA  21:16.0  42:08.0  1:07:40            88.48          6.75       21.27   \n",
       "\n",
       "   10k_minutes  10miles_minutes  \n",
       "3        38.47            64.17  \n",
       "4        40.97            64.88  \n",
       "5        40.67            65.85  \n",
       "6        41.43            66.72  \n",
       "7        42.13            67.67  "
      ]
     },
     "execution_count": 169,
     "metadata": {},
     "output_type": "execute_result"
    }
   ],
   "source": [
    "#Parse time columns and convert to total minutes\n",
    "df['NetTime_minutes'] = df['NetTime'].apply(parse_time)\n",
    "df['Pace_minutes'] = df['Pace'].apply(parse_time)\n",
    "df['5k_minutes'] = df['5k'].apply(parse_time)\n",
    "df['10k_minutes'] = df['10k'].apply(parse_time)\n",
    "df['10miles_minutes'] = df['10m'].apply(parse_time)\n",
    "df.head()"
   ]
  },
  {
   "cell_type": "markdown",
   "metadata": {},
   "source": [
    "#### Parse age from age divisions"
   ]
  },
  {
   "cell_type": "code",
   "execution_count": 185,
   "metadata": {},
   "outputs": [
    {
     "data": {
      "text/plain": [
       "array(['F35-39', 'F20-24', 'F30-34', 'F40-44', 'F25-29', 'F50-54',\n",
       "       'F45-49', 'F0-19', 'F55-59', 'F60-64', 'F65-69', 'F70-74'],\n",
       "      dtype=object)"
      ]
     },
     "execution_count": 185,
     "metadata": {},
     "output_type": "execute_result"
    }
   ],
   "source": [
    "df['Division'].unique()\n",
    "df['Age'] = df['Division'].apply(parse_age)\n",
    "df.head()"
   ]
  },
  {
   "cell_type": "markdown",
   "metadata": {},
   "source": [
    "#### Participation stats\n",
    "Number of runners per age group\n",
    "\n",
    "**Result: Plot shows highest participation in women runners between age 20-25.**"
   ]
  },
  {
   "cell_type": "code",
   "execution_count": 175,
   "metadata": {},
   "outputs": [
    {
     "data": {
      "image/png": "[encoded data removed]",
      "text/plain": [
       "<Figure size 432x288 with 1 Axes>"
      ]
     },
     "metadata": {
      "needs_background": "light"
     },
     "output_type": "display_data"
    }
   ],
   "source": [
    "counts = df.groupby('Division', as_index=False).size()\n",
    "counts.plot(kind='bar')\n",
    "plt.xlabel('Division')\n",
    "plt.ylabel('Count')\n",
    "plt.title('Participation per Group')\n",
    "plt.show()"
   ]
  },
  {
   "cell_type": "markdown",
   "metadata": {},
   "source": [
    "#### Finish time by age group\n",
    "\n",
    "Shows the spread of performance across age groups. \n",
    "\n",
    "**Result: finish times quite spread out within age groups overall**"
   ]
  },
  {
   "cell_type": "code",
   "execution_count": 181,
   "metadata": {},
   "outputs": [
    {
     "data": {
      "image/png": "[encoded data removed]",
      "text/plain": [
       "<Figure size 432x288 with 1 Axes>"
      ]
     },
     "metadata": {
      "needs_background": "light"
     },
     "output_type": "display_data"
    }
   ],
   "source": [
    "df.boxplot(column='NetTime_minutes', by='Division')\n",
    "plt.xticks(rotation=45, ha='right') # Rotates and right-aligns labels\n",
    "plt.tight_layout() \n",
    "plt.show()"
   ]
  },
  {
   "cell_type": "markdown",
   "metadata": {},
   "source": [
    "#### Frequency of runners per Finish time per age group\n",
    "\n",
    "**Result: Younger runners skew more**"
   ]
  },
  {
   "cell_type": "code",
   "execution_count": 193,
   "metadata": {},
   "outputs": [
    {
     "data": {
      "image/png": "[encoded data removed]",
      "text/plain": [
       "<Figure size 432x288 with 12 Axes>"
      ]
     },
     "metadata": {
      "needs_background": "light"
     },
     "output_type": "display_data"
    }
   ],
   "source": [
    "df.hist(column='NetTime_minutes', by='Division', layout=(4, 3))\n",
    "plt.show()"
   ]
  },
  {
   "cell_type": "markdown",
   "metadata": {},
   "source": [
    "#### Top 5 finishers per age group\n",
    "\n",
    "**Result:**"
   ]
  },
  {
   "cell_type": "code",
   "execution_count": 208,
   "metadata": {},
   "outputs": [
    {
     "data": {
      "image/png": "[encoded data removed]",
      "text/plain": [
       "<Figure size 432x288 with 12 Axes>"
      ]
     },
     "metadata": {
      "needs_background": "light"
     },
     "output_type": "display_data"
    }
   ],
   "source": [
    "df_top = df.sort_values('NetTime_minutes', ascending=True).groupby('Division').head(5)\n",
    "# df_top[df_top['Division'] == 'F20-24']\n",
    "# g = sn.catplot(data=df_top, x='Division', y='NetTime_minutes', kind='bar', col='Division')\n",
    "# plot.show()\n",
    "\n",
    "df_top.hist(column='NetTime_minutes', by='Division', layout=(4, 3))\n",
    "plt.show()"
   ]
  },
  {
   "cell_type": "markdown",
   "metadata": {},
   "source": [
    "#### Normalize FInish time by age group\n",
    "\n",
    "Normalize each runner’s time relative to others in their age group. This helps compare performance across age groups."
   ]
  },
  {
   "cell_type": "code",
   "execution_count": 207,
   "metadata": {},
   "outputs": [
    {
     "data": {
      "image/png": "[encoded data removed]",
      "text/plain": [
       "<Figure size 432x288 with 1 Axes>"
      ]
     },
     "metadata": {
      "needs_background": "light"
     },
     "output_type": "display_data"
    }
   ],
   "source": [
    "df['zscore_time'] = df.groupby('Division')['NetTime_minutes'].transform(lambda x: (x - x.mean()) / x.std())\n",
    "df.boxplot(column='zscore_time', by='Division')\n",
    "plt.xticks(rotation=45, ha='right') # Rotates and right-aligns labels\n",
    "plt.tight_layout() \n",
    "plt.show()"
   ]
  },
  {
   "cell_type": "markdown",
   "metadata": {},
   "source": [
    "#### Modeling\n",
    "\n",
    "1. See if age and performance are correlated"
   ]
  },
  {
   "cell_type": "code",
   "execution_count": 210,
   "metadata": {},
   "outputs": [
    {
     "name": "stdout",
     "output_type": "stream",
     "text": [
      "Correlation between age and finish time: 0.133\n"
     ]
    }
   ],
   "source": [
    "correlation = df['Age'].corr(df['NetTime_minutes'])\n",
    "print(f\"Correlation between age and finish time: {correlation:.3f}\")"
   ]
  },
  {
   "cell_type": "markdown",
   "metadata": {},
   "source": [
    "#### Modeling\n",
    "2. Quadratic model"
   ]
  },
  {
   "cell_type": "code",
   "execution_count": 213,
   "metadata": {},
   "outputs": [
    {
     "data": {
      "image/png": "[encoded data removed]",
      "text/plain": [
       "<Figure size 576x360 with 1 Axes>"
      ]
     },
     "metadata": {
      "needs_background": "light"
     },
     "output_type": "display_data"
    }
   ],
   "source": [
    "# Fit quadratic model: NetTime_minutes = a*Age² + b*Age + c\n",
    "coeffs = np.polyfit(df['Age'], df['NetTime_minutes'], deg=2)\n",
    "\n",
    "# Generate predicted values\n",
    "age_range = np.linspace(df['Age'].min(), df['Age'].max(), 100)\n",
    "predicted = np.polyval(coeffs, age_range)\n",
    "\n",
    "# Plot\n",
    "plt.figure(figsize=(8, 5))\n",
    "plt.scatter(df['Age'], df['NetTime_minutes'], alpha=0.6, label='Data')\n",
    "plt.plot(age_range, predicted, color='red', label='Quadratic Fit')\n",
    "plt.xlabel(\"Age\")\n",
    "plt.ylabel(\"Finish Time (min)\")\n",
    "plt.title(\"Quadratic Fit: Age vs. Finish Time\")\n",
    "plt.legend()\n",
    "plt.tight_layout()\n",
    "plt.show()"
   ]
  },
  {
   "cell_type": "markdown",
   "metadata": {},
   "source": [
    "#### Modeling\n",
    "\n",
    "3. Multivariate regression"
   ]
  },
  {
   "cell_type": "code",
   "execution_count": 215,
   "metadata": {},
   "outputs": [
    {
     "ename": "ModuleNotFoundError",
     "evalue": "No module named 'statsmodels'",
     "output_type": "error",
     "traceback": [
      "\u001b[0;31m---------------------------------------------------------------------------\u001b[0m",
      "\u001b[0;31mModuleNotFoundError\u001b[0m                       Traceback (most recent call last)",
      "\u001b[0;32m<ipython-input-215-b9b032874f50>\u001b[0m in \u001b[0;36m<module>\u001b[0;34m\u001b[0m\n\u001b[0;32m----> 1\u001b[0;31m \u001b[0;32mimport\u001b[0m \u001b[0mstatsmodels\u001b[0m\u001b[0;34m.\u001b[0m\u001b[0mapi\u001b[0m \u001b[0;32mas\u001b[0m \u001b[0msm\u001b[0m\u001b[0;34m\u001b[0m\u001b[0;34m\u001b[0m\u001b[0m\n\u001b[0m\u001b[1;32m      2\u001b[0m \u001b[0;34m\u001b[0m\u001b[0m\n\u001b[1;32m      3\u001b[0m \u001b[0;31m# Define features and outcome\u001b[0m\u001b[0;34m\u001b[0m\u001b[0;34m\u001b[0m\u001b[0;34m\u001b[0m\u001b[0m\n\u001b[1;32m      4\u001b[0m \u001b[0mX\u001b[0m \u001b[0;34m=\u001b[0m \u001b[0mdf\u001b[0m\u001b[0;34m[\u001b[0m\u001b[0;34m[\u001b[0m\u001b[0;34m'Age'\u001b[0m\u001b[0;34m,\u001b[0m \u001b[0;34m'Pace_minutes'\u001b[0m\u001b[0;34m,\u001b[0m \u001b[0;34m'10k_minutes'\u001b[0m\u001b[0;34m]\u001b[0m\u001b[0;34m]\u001b[0m\u001b[0;34m\u001b[0m\u001b[0;34m\u001b[0m\u001b[0m\n\u001b[1;32m      5\u001b[0m \u001b[0my\u001b[0m \u001b[0;34m=\u001b[0m \u001b[0mdf\u001b[0m\u001b[0;34m[\u001b[0m\u001b[0;34m'NetTime_minutes'\u001b[0m\u001b[0;34m]\u001b[0m\u001b[0;34m\u001b[0m\u001b[0;34m\u001b[0m\u001b[0m\n",
      "\u001b[0;31mModuleNotFoundError\u001b[0m: No module named 'statsmodels'"
     ]
    }
   ],
   "source": [
    "import statsmodels.api as sm\n",
    "\n",
    "# Define features and outcome\n",
    "X = df[['Age', 'Pace_minutes', '10k_minutes']]\n",
    "y = df['NetTime_minutes']\n",
    "\n",
    "# Add intercept term\n",
    "X = sm.add_constant(X)\n",
    "\n",
    "# Fit the model\n",
    "model = sm.OLS(y, X).fit()\n",
    "\n",
    "# Summary of regression results\n",
    "print(model.summary())\n"
   ]
  }
 ],
 "metadata": {
  "kernelspec": {
   "display_name": "Python 3 (ipykernel)",
   "language": "python",
   "name": "python3"
  },
  "language_info": {
   "codemirror_mode": {
    "name": "ipython",
    "version": 3
   },
   "file_extension": ".py",
   "mimetype": "text/x-python",
   "name": "python",
   "nbconvert_exporter": "python",
   "pygments_lexer": "ipython3",
   "version": "3.8.18"
  }
 },
 "nbformat": 4,
 "nbformat_minor": 4
}
